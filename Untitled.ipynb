{
 "cells": [
  {
   "cell_type": "code",
   "execution_count": null,
   "id": "287f2784",
   "metadata": {},
   "outputs": [],
   "source": [
    "x = 5\n",
    "a = x + 3\n",
    "print(a)"
   ]
  },
  {
   "cell_type": "markdown",
   "id": "e3ed91d8",
   "metadata": {},
   "source": [
    "# Markdown\n",
    "\n",
    "This is markdown code.\n",
    "\n",
    "__Bold__"
   ]
  }
 ],
 "metadata": {
  "kernelspec": {
   "display_name": "Python 3 (ipykernel)",
   "language": "python",
   "name": "python3"
  },
  "language_info": {
   "codemirror_mode": {
    "name": "ipython",
    "version": 3
   },
   "file_extension": ".py",
   "mimetype": "text/x-python",
   "name": "python",
   "nbconvert_exporter": "python",
   "pygments_lexer": "ipython3",
   "version": "3.10.4"
  }
 },
 "nbformat": 4,
 "nbformat_minor": 5
}
